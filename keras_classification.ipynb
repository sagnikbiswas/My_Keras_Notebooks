{
  "nbformat": 4,
  "nbformat_minor": 0,
  "metadata": {
    "colab": {
      "name": "keras_classification.ipynb",
      "provenance": [],
      "collapsed_sections": [],
      "authorship_tag": "ABX9TyN2Gt34QNx8Dc0eCrKxXTZn",
      "include_colab_link": true
    },
    "kernelspec": {
      "name": "python3",
      "display_name": "Python 3"
    },
    "language_info": {
      "name": "python"
    },
    "accelerator": "GPU"
  },
  "cells": [
    {
      "cell_type": "markdown",
      "metadata": {
        "id": "view-in-github",
        "colab_type": "text"
      },
      "source": [
        "<a href=\"https://colab.research.google.com/github/sagnikbiswas/My_Keras_Notebooks/blob/main/keras_classification.ipynb\" target=\"_parent\"><img src=\"https://colab.research.google.com/assets/colab-badge.svg\" alt=\"Open In Colab\"/></a>"
      ]
    },
    {
      "cell_type": "markdown",
      "metadata": {
        "id": "h_3od-yLqR1J"
      },
      "source": [
        "#Building an Image Classifier Model with Keras"
      ]
    },
    {
      "cell_type": "markdown",
      "metadata": {
        "id": "OY-nIUASqhCr"
      },
      "source": [
        "We will train our model on the MNIST dataset."
      ]
    },
    {
      "cell_type": "code",
      "metadata": {
        "id": "oDjLZnX_U5gJ"
      },
      "source": [
        "import keras\n",
        "from keras.models import Sequential\n",
        "from keras.layers import Dense\n",
        "from tensorflow.keras.utils import to_categorical\n",
        "from keras.datasets import mnist\n",
        "from keras.models import load_model\n",
        "import matplotlib.pyplot as plt\n",
        "\n",
        "# Not necessary - only for rough works\n",
        "import numpy as np\n",
        "from PIL import Image\n",
        "import requests\n",
        "from IPython.display import display"
      ],
      "execution_count": 1,
      "outputs": []
    },
    {
      "cell_type": "code",
      "metadata": {
        "id": "82Hoc_PCtRuL",
        "colab": {
          "base_uri": "https://localhost:8080/"
        },
        "outputId": "5ccb8faf-fab8-4bd6-97ad-42162491cc3d"
      },
      "source": [
        "# mnist is a numpy zip archive containing the training and testing numpy datasets for hand written digit recognization\n",
        "# for this notebook its not necessary to import numpy itself\n",
        "(X_train, y_train), (X_test, y_test) = mnist.load_data()"
      ],
      "execution_count": 2,
      "outputs": [
        {
          "output_type": "stream",
          "text": [
            "Downloading data from https://storage.googleapis.com/tensorflow/tf-keras-datasets/mnist.npz\n",
            "11493376/11490434 [==============================] - 0s 0us/step\n",
            "11501568/11490434 [==============================] - 0s 0us/step\n"
          ],
          "name": "stdout"
        }
      ]
    },
    {
      "cell_type": "code",
      "metadata": {
        "colab": {
          "base_uri": "https://localhost:8080/"
        },
        "id": "hLdBB6hRtRrt",
        "outputId": "c4f42577-b7db-4e4b-9602-8b5fe9679230"
      },
      "source": [
        "X_train.shape"
      ],
      "execution_count": 3,
      "outputs": [
        {
          "output_type": "execute_result",
          "data": {
            "text/plain": [
              "(60000, 28, 28)"
            ]
          },
          "metadata": {
            "tags": []
          },
          "execution_count": 3
        }
      ]
    },
    {
      "cell_type": "markdown",
      "metadata": {
        "id": "QjGQplMyrEtz"
      },
      "source": [
        "6000 28x28 samples of handwritten digits. We would need to flatten them to 784x1 vectors for input."
      ]
    },
    {
      "cell_type": "code",
      "metadata": {
        "colab": {
          "base_uri": "https://localhost:8080/",
          "height": 283
        },
        "id": "2zH3GbtytRpH",
        "outputId": "919fbad0-d8a2-43fa-ce4e-856f8a0b7607"
      },
      "source": [
        "plt.imshow(X_train[0])"
      ],
      "execution_count": 4,
      "outputs": [
        {
          "output_type": "execute_result",
          "data": {
            "text/plain": [
              "<matplotlib.image.AxesImage at 0x7fb1bcb4b190>"
            ]
          },
          "metadata": {
            "tags": []
          },
          "execution_count": 4
        },
        {
          "output_type": "display_data",
          "data": {
            "image/png": "[encoded data removed]",
            "text/plain": [
              "<Figure size 432x288 with 1 Axes>"
            ]
          },
          "metadata": {
            "tags": [],
            "needs_background": "light"
          }
        }
      ]
    },
    {
      "cell_type": "code",
      "metadata": {
        "id": "BsMzUHiHtRml"
      },
      "source": [
        "num_pixels = X_train.shape[1] * X_train.shape[2] # find size of vector\n",
        "\n",
        "X_train = X_train.reshape(X_train.shape[0], num_pixels).astype('float32') # flatten training images\n",
        "X_test = X_test.reshape(X_test.shape[0], num_pixels).astype('float32') # flatten test images"
      ],
      "execution_count": 5,
      "outputs": []
    },
    {
      "cell_type": "code",
      "metadata": {
        "id": "Pmfp3kUStRj0"
      },
      "source": [
        "# normalize inputs from 0-255 to 0-1\n",
        "X_train = X_train / 255\n",
        "X_test = X_test / 255"
      ],
      "execution_count": 6,
      "outputs": []
    },
    {
      "cell_type": "code",
      "metadata": {
        "colab": {
          "base_uri": "https://localhost:8080/"
        },
        "id": "vhSwCHAmu40K",
        "outputId": "c6172e9e-a3cd-44e4-d9bb-c347b52742ec"
      },
      "source": [
        "# one hot encode outputs\n",
        "y_train_ohe = to_categorical(y_train)\n",
        "y_test_ohe = to_categorical(y_test)\n",
        "\n",
        "num_classes = y_test_ohe.shape[1]\n",
        "print(num_classes)\n",
        "y_test_ohe.shape"
      ],
      "execution_count": 7,
      "outputs": [
        {
          "output_type": "stream",
          "text": [
            "10\n"
          ],
          "name": "stdout"
        },
        {
          "output_type": "execute_result",
          "data": {
            "text/plain": [
              "(10000, 10)"
            ]
          },
          "metadata": {
            "tags": []
          },
          "execution_count": 7
        }
      ]
    },
    {
      "cell_type": "markdown",
      "metadata": {
        "id": "W1KqIDLZrjI_"
      },
      "source": [
        "###Build the model"
      ]
    },
    {
      "cell_type": "code",
      "metadata": {
        "id": "v7msCvmiu4yB"
      },
      "source": [
        "# define classification model\n",
        "def my_classification_model():\n",
        "    # create model\n",
        "    my_model = Sequential()\n",
        "    my_model.add(Dense(num_pixels, activation='relu', input_shape=(num_pixels,)))\n",
        "    my_model.add(Dense(100, activation='relu'))\n",
        "    my_model.add(Dense(num_classes, activation='softmax'))    # softmax for classification\n",
        "    \n",
        "    \n",
        "    # compile model\n",
        "    my_model.compile(optimizer='adam', loss='categorical_crossentropy', metrics=['accuracy'])\n",
        "    return my_model"
      ],
      "execution_count": 8,
      "outputs": []
    },
    {
      "cell_type": "markdown",
      "metadata": {
        "id": "fJ1RnCl-rv7q"
      },
      "source": [
        "### Train and Test"
      ]
    },
    {
      "cell_type": "code",
      "metadata": {
        "colab": {
          "base_uri": "https://localhost:8080/"
        },
        "id": "mbGOsowgu4vT",
        "outputId": "a906263b-cf0b-4f7f-dbcb-b5e16dc750dc"
      },
      "source": [
        "# build the model\n",
        "my_model = my_classification_model()\n",
        "\n",
        "# fit the model -  takes 3 minutes on CPU - use GPU\n",
        "my_model.fit(X_train, y_train_ohe, validation_data=(X_test, y_test_ohe), epochs=10, verbose=2)\n",
        "\n",
        "# evaluate the model\n",
        "scores = my_model.evaluate(X_test, y_test_ohe, verbose=0)"
      ],
      "execution_count": 9,
      "outputs": [
        {
          "output_type": "stream",
          "text": [
            "Epoch 1/10\n",
            "1875/1875 - 18s - loss: 0.1839 - accuracy: 0.9439 - val_loss: 0.1283 - val_accuracy: 0.9603\n",
            "Epoch 2/10\n",
            "1875/1875 - 4s - loss: 0.0763 - accuracy: 0.9764 - val_loss: 0.0774 - val_accuracy: 0.9757\n",
            "Epoch 3/10\n",
            "1875/1875 - 4s - loss: 0.0517 - accuracy: 0.9834 - val_loss: 0.0784 - val_accuracy: 0.9753\n",
            "Epoch 4/10\n",
            "1875/1875 - 3s - loss: 0.0392 - accuracy: 0.9870 - val_loss: 0.0838 - val_accuracy: 0.9787\n",
            "Epoch 5/10\n",
            "1875/1875 - 4s - loss: 0.0302 - accuracy: 0.9898 - val_loss: 0.0614 - val_accuracy: 0.9804\n",
            "Epoch 6/10\n",
            "1875/1875 - 4s - loss: 0.0258 - accuracy: 0.9913 - val_loss: 0.0852 - val_accuracy: 0.9780\n",
            "Epoch 7/10\n",
            "1875/1875 - 3s - loss: 0.0239 - accuracy: 0.9922 - val_loss: 0.0826 - val_accuracy: 0.9784\n",
            "Epoch 8/10\n",
            "1875/1875 - 4s - loss: 0.0193 - accuracy: 0.9937 - val_loss: 0.0920 - val_accuracy: 0.9795\n",
            "Epoch 9/10\n",
            "1875/1875 - 4s - loss: 0.0172 - accuracy: 0.9942 - val_loss: 0.0939 - val_accuracy: 0.9779\n",
            "Epoch 10/10\n",
            "1875/1875 - 3s - loss: 0.0168 - accuracy: 0.9947 - val_loss: 0.0995 - val_accuracy: 0.9776\n"
          ],
          "name": "stdout"
        }
      ]
    },
    {
      "cell_type": "code",
      "metadata": {
        "colab": {
          "base_uri": "https://localhost:8080/"
        },
        "id": "8OQ5jpkwu4mh",
        "outputId": "381eaccb-f705-473d-a593-3ad2fd972881"
      },
      "source": [
        "print('Accuracy: {}% \\n Error: {}'.format(scores[1], 1 - scores[1]))        "
      ],
      "execution_count": 13,
      "outputs": [
        {
          "output_type": "stream",
          "text": [
            "Accuracy: 0.9775999784469604% \n",
            " Error: 0.02240002155303955\n"
          ],
          "name": "stdout"
        }
      ]
    },
    {
      "cell_type": "code",
      "metadata": {
        "id": "cEu8Fzu1u4jt"
      },
      "source": [
        "# We can save a Keras model. since colab deletes local files on restart its useless but shown here just for demonstration\n",
        "my_model.save('my_classification_model.h5')"
      ],
      "execution_count": 14,
      "outputs": []
    },
    {
      "cell_type": "code",
      "metadata": {
        "id": "a0rkJPttv1MG"
      },
      "source": [
        "# load saved model\n",
        "pretrained_model = load_model('my_classification_model.h5')"
      ],
      "execution_count": 15,
      "outputs": []
    },
    {
      "cell_type": "markdown",
      "metadata": {
        "id": "p-LBAPq0sHW4"
      },
      "source": [
        "We were able to train on a dataset of 28x28 images. But what about higher resolution samples? Do we use 1920*1080\\*3 input neurons for FHD color images?"
      ]
    },
    {
      "cell_type": "code",
      "metadata": {
        "id": "RiqX0v2FqP6C"
      },
      "source": [
        ""
      ],
      "execution_count": null,
      "outputs": []
    }
  ]
}